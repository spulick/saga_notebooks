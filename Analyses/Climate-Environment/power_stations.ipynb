{
 "cells": [
  {
   "cell_type": "code",
   "execution_count": 18,
   "metadata": {},
   "outputs": [],
   "source": [
    "import pandas as pd\n",
    "import geopandas as gpd\n",
    "import shapely"
   ]
  },
  {
   "cell_type": "code",
   "execution_count": 3,
   "metadata": {},
   "outputs": [],
   "source": [
    "approved = pd.read_csv(\"./Data/approved power stations.csv\", dtype={\"Postcode\": str})\n",
    "#committed = pd.read_csv(\"./Data/committed power stations.csv\", dtype={\"Postcode\": str})"
   ]
  },
  {
   "cell_type": "code",
   "execution_count": 22,
   "metadata": {},
   "outputs": [],
   "source": [
    "pos = gpd.read_file(\"./Data/POA_2021_AUST_GDA2020_SHP.zip\")\n",
    "pos = pos[[\"POA_CODE21\", \"geometry\"]]\n",
    "\n",
    "pos = pos[~pos[\"geometry\"].isna()]"
   ]
  },
  {
   "cell_type": "code",
   "execution_count": 23,
   "metadata": {},
   "outputs": [],
   "source": [
    "pos.geometry = pos.geometry.set_precision(grid_size=0.001)"
   ]
  },
  {
   "cell_type": "code",
   "execution_count": 24,
   "metadata": {},
   "outputs": [
    {
     "data": {
      "text/html": [
       "<div>\n",
       "<style scoped>\n",
       "    .dataframe tbody tr th:only-of-type {\n",
       "        vertical-align: middle;\n",
       "    }\n",
       "\n",
       "    .dataframe tbody tr th {\n",
       "        vertical-align: top;\n",
       "    }\n",
       "\n",
       "    .dataframe thead th {\n",
       "        text-align: right;\n",
       "    }\n",
       "</style>\n",
       "<table border=\"1\" class=\"dataframe\">\n",
       "  <thead>\n",
       "    <tr style=\"text-align: right;\">\n",
       "      <th></th>\n",
       "      <th>POA_CODE21</th>\n",
       "      <th>geometry</th>\n",
       "    </tr>\n",
       "  </thead>\n",
       "  <tbody>\n",
       "    <tr>\n",
       "      <th>0</th>\n",
       "      <td>0800</td>\n",
       "      <td>POLYGON ((130.837 -12.453, 130.838 -12.452, 13...</td>\n",
       "    </tr>\n",
       "    <tr>\n",
       "      <th>1</th>\n",
       "      <td>0810</td>\n",
       "      <td>POLYGON ((130.899 -12.366, 130.898 -12.366, 13...</td>\n",
       "    </tr>\n",
       "    <tr>\n",
       "      <th>2</th>\n",
       "      <td>0812</td>\n",
       "      <td>POLYGON ((130.918 -12.409, 130.918 -12.413, 13...</td>\n",
       "    </tr>\n",
       "    <tr>\n",
       "      <th>3</th>\n",
       "      <td>0820</td>\n",
       "      <td>POLYGON ((130.851 -12.439, 130.85 -12.439, 130...</td>\n",
       "    </tr>\n",
       "    <tr>\n",
       "      <th>4</th>\n",
       "      <td>0822</td>\n",
       "      <td>MULTIPOLYGON (((136.567 -12.084, 136.571 -12.0...</td>\n",
       "    </tr>\n",
       "    <tr>\n",
       "      <th>...</th>\n",
       "      <td>...</td>\n",
       "      <td>...</td>\n",
       "    </tr>\n",
       "    <tr>\n",
       "      <th>2636</th>\n",
       "      <td>7466</td>\n",
       "      <td>MULTIPOLYGON (((145.587 -42.058, 145.587 -42.0...</td>\n",
       "    </tr>\n",
       "    <tr>\n",
       "      <th>2637</th>\n",
       "      <td>7467</td>\n",
       "      <td>POLYGON ((145.583 -42.004, 145.583 -42.005, 14...</td>\n",
       "    </tr>\n",
       "    <tr>\n",
       "      <th>2638</th>\n",
       "      <td>7468</td>\n",
       "      <td>MULTIPOLYGON (((145.398 -42.14, 145.399 -42.14...</td>\n",
       "    </tr>\n",
       "    <tr>\n",
       "      <th>2639</th>\n",
       "      <td>7469</td>\n",
       "      <td>MULTIPOLYGON (((144.788 -41.452, 144.789 -41.4...</td>\n",
       "    </tr>\n",
       "    <tr>\n",
       "      <th>2640</th>\n",
       "      <td>7470</td>\n",
       "      <td>MULTIPOLYGON (((145.577 -41.787, 145.576 -41.7...</td>\n",
       "    </tr>\n",
       "  </tbody>\n",
       "</table>\n",
       "<p>2641 rows × 2 columns</p>\n",
       "</div>"
      ],
      "text/plain": [
       "     POA_CODE21                                           geometry\n",
       "0          0800  POLYGON ((130.837 -12.453, 130.838 -12.452, 13...\n",
       "1          0810  POLYGON ((130.899 -12.366, 130.898 -12.366, 13...\n",
       "2          0812  POLYGON ((130.918 -12.409, 130.918 -12.413, 13...\n",
       "3          0820  POLYGON ((130.851 -12.439, 130.85 -12.439, 130...\n",
       "4          0822  MULTIPOLYGON (((136.567 -12.084, 136.571 -12.0...\n",
       "...         ...                                                ...\n",
       "2636       7466  MULTIPOLYGON (((145.587 -42.058, 145.587 -42.0...\n",
       "2637       7467  POLYGON ((145.583 -42.004, 145.583 -42.005, 14...\n",
       "2638       7468  MULTIPOLYGON (((145.398 -42.14, 145.399 -42.14...\n",
       "2639       7469  MULTIPOLYGON (((144.788 -41.452, 144.789 -41.4...\n",
       "2640       7470  MULTIPOLYGON (((145.577 -41.787, 145.576 -41.7...\n",
       "\n",
       "[2641 rows x 2 columns]"
      ]
     },
     "execution_count": 24,
     "metadata": {},
     "output_type": "execute_result"
    }
   ],
   "source": [
    "pos"
   ]
  },
  {
   "cell_type": "code",
   "execution_count": 25,
   "metadata": {},
   "outputs": [],
   "source": [
    "approved = approved.merge(pos, left_on=\"Postcode\", right_on=\"POA_CODE21\", how=\"left\")\n",
    "#committed = committed.merge(pos, left_on=\"Postcode\", right_on=\"POA_CODE21\", how=\"left\")"
   ]
  },
  {
   "cell_type": "code",
   "execution_count": 26,
   "metadata": {},
   "outputs": [],
   "source": [
    "approved[\"Installed capacity (W)\"] = approved[\"Installed capacity (MW)\"] * 10**6"
   ]
  },
  {
   "cell_type": "code",
   "execution_count": 27,
   "metadata": {},
   "outputs": [],
   "source": [
    "approved = gpd.GeoDataFrame(approved, geometry=\"geometry\")"
   ]
  },
  {
   "cell_type": "code",
   "execution_count": 28,
   "metadata": {},
   "outputs": [],
   "source": [
    "approved.to_csv(\"./Data/approved.csv\", index=False)"
   ]
  },
  {
   "cell_type": "code",
   "execution_count": 29,
   "metadata": {},
   "outputs": [],
   "source": [
    "approved = approved.to_json(show_bbox=True, to_wgs84=True)\n",
    "\n",
    "import json\n",
    "\n",
    "with open(\"./Data/approved.json\", \"w\") as f:\n",
    "    f.write(approved)"
   ]
  },
  {
   "cell_type": "code",
   "execution_count": null,
   "metadata": {},
   "outputs": [],
   "source": []
  },
  {
   "cell_type": "code",
   "execution_count": 30,
   "metadata": {},
   "outputs": [],
   "source": [
    "local_govs = gpd.read_file(\"./Data/LGA_2024_AUST_GDA2020.zip\")"
   ]
  },
  {
   "cell_type": "code",
   "execution_count": 31,
   "metadata": {},
   "outputs": [],
   "source": [
    "local_govs = local_govs[[\"LGA_CODE24\", \"LGA_NAME24\", \"STE_NAME21\", \"geometry\"]]"
   ]
  },
  {
   "cell_type": "code",
   "execution_count": 32,
   "metadata": {},
   "outputs": [],
   "source": [
    "local_govs.geometry = local_govs.geometry.set_precision(grid_size=0.001)"
   ]
  },
  {
   "cell_type": "code",
   "execution_count": 33,
   "metadata": {},
   "outputs": [],
   "source": [
    "local_govs.to_csv(\"./Data/local_govs.csv\", index=False)"
   ]
  },
  {
   "cell_type": "code",
   "execution_count": 34,
   "metadata": {},
   "outputs": [],
   "source": [
    "local_govs = local_govs.to_json(show_bbox=True, to_wgs84=True)\n",
    "\n",
    "with open(\"./Data/local_govs.json\", \"w\") as f:\n",
    "    f.write(local_govs)"
   ]
  },
  {
   "cell_type": "code",
   "execution_count": null,
   "metadata": {},
   "outputs": [],
   "source": []
  }
 ],
 "metadata": {
  "kernelspec": {
   "display_name": "web",
   "language": "python",
   "name": "python3"
  },
  "language_info": {
   "codemirror_mode": {
    "name": "ipython",
    "version": 3
   },
   "file_extension": ".py",
   "mimetype": "text/x-python",
   "name": "python",
   "nbconvert_exporter": "python",
   "pygments_lexer": "ipython3",
   "version": "3.13.1"
  }
 },
 "nbformat": 4,
 "nbformat_minor": 2
}
